{
 "cells": [
  {
   "cell_type": "code",
   "execution_count": 1,
   "metadata": {},
   "outputs": [],
   "source": [
    "# Importing Libraries\n",
    "import numpy as np\n",
    "import torch\n",
    "import matplotlib.pyplot as plt\n",
    "from torch.utils.data import DataLoader\n",
    "from Lspin import Lspin, DataSetMeta\n",
    "import matplotlib.colors as colors"
   ]
  },
  {
   "cell_type": "markdown",
   "metadata": {},
   "source": [
    "## Data Generation\n",
    "\n",
    "\n",
    "\\begin{align*}\n",
    "y = &\\begin{cases} \n",
    "x_1 \\times x_2 + 2x_{21} & \\text{if } x_{21} = -1 \\\\\n",
    "x_2 \\times x_3 + 2x_{21} & \\text{if } x_{21} = 0 \\\\\n",
    "x_3 \\times x_4 + 2x_{21} & \\text{if } x_{21} = 1\n",
    "\\end{cases}\n",
    "\\end{align*}\n"
   ]
  },
  {
   "cell_type": "code",
   "execution_count": 3,
   "metadata": {},
   "outputs": [],
   "source": [
    "N_train = 1500\n",
    "N_valid=300\n",
    "N_test = 300\n",
    "D=20\n",
    "np.random.seed(42)\n",
    "group_size=int(N_train/3)\n",
    "X_train = np.sign(np.random.normal(0,1,(N_train,D)))\n",
    "X_train = np.concatenate((X_train,\n",
    "                         np.concatenate(([-1]*group_size,[0]*group_size,[1]*group_size)).reshape(-1,1)),axis=1)\n",
    "Y_train = np.concatenate((X_train[:group_size,0]*X_train[:group_size,1]+2*X_train[:group_size,-1],\n",
    "                          X_train[group_size:(group_size*2),1]*X_train[group_size:(group_size*2),2]+2*X_train[group_size:(group_size*2),-1],\n",
    "                          X_train[(group_size*2):(group_size*3),2]*X_train[(group_size*2):(group_size*3),3]+2*X_train[(group_size*2):(group_size*3),-1],\n",
    "                         ),axis=0)\n",
    "group_size=int(N_valid/3)\n",
    "X_valid = np.sign(np.random.normal(0,1,(N_valid,D)))\n",
    "X_valid = np.concatenate((X_valid,\n",
    "                         np.concatenate(([-1]*group_size,[0]*group_size,[1]*group_size)).reshape(-1,1)),axis=1)\n",
    "Y_valid = np.concatenate((X_valid[:group_size,0]*X_valid[:group_size,1]+2*X_valid[:group_size,-1],\n",
    "                          X_valid[group_size:(group_size*2),1]*X_valid[group_size:(group_size*2),2]+2*X_valid[group_size:(group_size*2),-1],\n",
    "                          X_valid[(group_size*2):(group_size*3),2]*X_valid[(group_size*2):(group_size*3),3]+2*X_valid[(group_size*2):(group_size*3),-1],\n",
    "                         ),axis=0)\n",
    "group_size=int(N_test/3)\n",
    "X_test = np.sign(np.random.normal(0,1,(N_test,D)))\n",
    "X_test = np.concatenate((X_test,\n",
    "                         np.concatenate(([-1]*group_size,[0]*group_size,[1]*group_size)).reshape(-1,1)),axis=1)\n",
    "Y_test = np.concatenate((X_test[:group_size,0]*X_test[:group_size,1]+2*X_test[:group_size,-1],\n",
    "                          X_test[group_size:(group_size*2),1]*X_test[group_size:(group_size*2),2]+2*X_test[group_size:(group_size*2),-1],\n",
    "                          X_test[(group_size*2):(group_size*3),2]*X_test[(group_size*2):(group_size*3),3]+2*X_test[(group_size*2):(group_size*3),-1],\n",
    "                         ),axis=0)\n",
    "np.random.seed(42)\n",
    "train_sample_indices = np.arange(N_train)\n",
    "np.random.shuffle(train_sample_indices)\n",
    "\n",
    "X_train = X_train[train_sample_indices,:]\n",
    "Y_train = Y_train[train_sample_indices]\n",
    "valid_sample_indices = np.arange(N_valid)\n",
    "np.random.shuffle(valid_sample_indices)\n",
    "\n",
    "X_valid = X_valid[valid_sample_indices,:]\n",
    "Y_valid = Y_valid[valid_sample_indices]\n",
    "test_sample_indices = np.arange(N_test)\n",
    "np.random.shuffle(test_sample_indices)\n",
    "\n",
    "X_test = X_test[test_sample_indices,:]\n",
    "Y_test = Y_test[test_sample_indices]"
   ]
  },
  {
   "cell_type": "code",
   "execution_count": 4,
   "metadata": {},
   "outputs": [],
   "source": [
    "# Print shapes to verify\n",
    "print(\"Train shapes:\", X_train.shape, Y_train.shape)\n",
    "print(\"Validation shapes:\", X_valid.shape, Y_valid.shape)\n",
    "print(\"Test shapes:\", X_test.shape, Y_test.shape)\n",
    "\n",
    "# Create PyTorch datasets\n",
    "train_dataset = DataSetMeta(X_train, Y_train, Y_train)\n",
    "valid_dataset = DataSetMeta(X_valid, Y_valid, Y_valid)\n",
    "test_dataset = DataSetMeta(X_test, Y_test, Y_test)"
   ]
  },
  {
   "cell_type": "code",
   "execution_count": 16,
   "metadata": {},
   "outputs": [],
   "source": [
    "# Model parameters\n",
    "model_params = {\n",
    "    'input_node': X_train.shape[1],\n",
    "    'hidden_layers_node': [500, 100, 1],\n",
    "    'output_node': 1,\n",
    "    'gating_net_hidden_layers_node': [100],\n",
    "    'display_step': 100,\n",
    "    'activation_gating': 'tanh',\n",
    "    'activation_pred': 'l_relu',\n",
    "    'lam': 1,\n",
    "    'sigma': 0.5,\n",
    "    'a': 1,\n",
    "    'gamma1': 0,\n",
    "    'gamma2': 0,\n",
    "    'num_meta_label': None,\n",
    "    'stddev_input': 0.1,\n",
    "    'stddev_input_gates': 0.1,\n",
    "    'seed': 42,\n",
    "    'val': True  # Enabling validation during training\n",
    "}\n",
    "\n",
    "# Training parameters\n",
    "training_params = {\n",
    "    'batch_size': 256,\n",
    "    'num_epochs': 1000,  \n",
    "    'lr': 0.05,  \n",
    "    'compute_sim': False\n",
    "}"
   ]
  },
  {
   "cell_type": "code",
   "execution_count": 17,
   "metadata": {},
   "outputs": [
    {
     "name": "stdout",
     "output_type": "stream",
     "text": [
      "Epoch [100/1000], Train Loss: 0.4249, Validation Loss: 0.0046\n",
      "Epoch [200/1000], Train Loss: 0.3340, Validation Loss: 0.0019\n",
      "Epoch [300/1000], Train Loss: 0.3429, Validation Loss: 0.0057\n",
      "Epoch [400/1000], Train Loss: 0.3288, Validation Loss: 0.0031\n",
      "Epoch [500/1000], Train Loss: 0.3238, Validation Loss: 0.0015\n",
      "Epoch [600/1000], Train Loss: 0.3203, Validation Loss: 0.0012\n",
      "Epoch [700/1000], Train Loss: 0.3125, Validation Loss: 0.0032\n",
      "Epoch [800/1000], Train Loss: 0.3128, Validation Loss: 0.0044\n",
      "Epoch [900/1000], Train Loss: 0.3401, Validation Loss: 0.0020\n",
      "Epoch [1000/1000], Train Loss: 0.3093, Validation Loss: 0.0049\n",
      "Training complete!\n",
      "Final Training Loss: 0.3093, Final Validation Loss: 0.0049\n"
     ]
    }
   ],
   "source": [
    "# Initialize the model\n",
    "device = torch.device(\"cuda\" if torch.cuda.is_available() else \"cpu\")\n",
    "model = Lspin(**model_params).to(device)\n",
    "# Train the model\n",
    "train_losses, val_losses, val_acc = model.train_model(\n",
    "    dataset=train_dataset, \n",
    "    valid_dataset=valid_dataset,\n",
    "    batch_size=training_params['batch_size'], \n",
    "    num_epoch=training_params['num_epochs'], \n",
    "    lr=training_params['lr'], \n",
    "    compute_sim=training_params['compute_sim']\n",
    ")"
   ]
  },
  {
   "cell_type": "code",
   "execution_count": 18,
   "metadata": {},
   "outputs": [
    {
     "name": "stdout",
     "output_type": "stream",
     "text": [
      "Mean Squared Error on the test: 0.00534\n"
     ]
    },
    {
     "data": {
      "image/png": "[encoded data removed]",
      "text/plain": [
       "<Figure size 720x432 with 5 Axes>"
      ]
     },
     "metadata": {
      "needs_background": "light"
     },
     "output_type": "display_data"
    }
   ],
   "source": [
    "# Test the model\n",
    "predictions,alpha = model.test(X_test)\n",
    "predictions=predictions.reshape(-1)\n",
    "# Calculate Mean Squared Error on the test set\n",
    "mse = np.mean((Y_test - predictions) ** 2)\n",
    "print(\"Mean Squared Error on the test: {:.5f}\".format(mse))\n",
    "\n",
    "# Visualizing the gate matrix\n",
    "gate_matrix_test = model.get_prob_alpha(torch.FloatTensor(X_test).to(device))\n",
    "\n",
    "# Compare to ground truth\n",
    "g_test = np.zeros((X_test.shape[0], X_test.shape[1]))\n",
    "for i in range(g_test.shape[0]):\n",
    "    if X_test[i, -1] == -1:\n",
    "        g_test[i, 0] = 1\n",
    "        g_test[i, 1] = 1\n",
    "    elif X_test[i, -1] == 0:\n",
    "        g_test[i, 1] = 1\n",
    "        g_test[i, 2] = 1\n",
    "    elif X_test[i, -1] == 1:\n",
    "        g_test[i, 2] = 1\n",
    "        g_test[i, 3] = 1\n",
    "g_test[:, -1] = 1\n",
    "\n",
    "fig, axes = plt.subplots(1, 2, sharex=True, sharey=False, figsize=(10, 6))\n",
    "\n",
    "cmap = plt.cm.Blues \n",
    "bounds = [0, 0.5, 1]\n",
    "norm = colors.BoundaryNorm(bounds, cmap.N)\n",
    "fig.add_subplot(111, frameon=False)\n",
    "\n",
    "title_size = 30\n",
    "xlabel_size = 35\n",
    "ylabel_size = 35\n",
    "xtick_size = 20\n",
    "ytick_size = 20\n",
    "bar_label_size = 20\n",
    "\n",
    "plt.rc('xtick', labelsize=20)\n",
    "\n",
    "# Test\n",
    "y_axis_order = np.argsort(X_test[:, -1])\n",
    "\n",
    "im5 = axes[0].imshow(g_test[y_axis_order, :], aspect='auto', cmap=cmap, norm=norm)\n",
    "axes[0].set_title(\"Ground Truth\", fontsize=title_size, fontweight=\"bold\")\n",
    "axes[0].set_ylabel(\"Sample Index\", fontsize=ylabel_size, labelpad=20)\n",
    "axes[0].set_xticks([0, 1, 2, 3, 20])\n",
    "axes[0].set_xticklabels([1, 2, 3, 4, 21])\n",
    "axes[0].set_yticks([0, 49, 99, 149, 199, 249])\n",
    "axes[0].set_yticklabels([1, 50, 100, 150, 200, 250], fontsize=ytick_size)\n",
    "\n",
    "im7 = axes[1].imshow(gate_matrix_test[y_axis_order, :].cpu().numpy(), aspect='auto', cmap=cmap,norm=norm)\n",
    "axes[1].set_title(\"LSPIN\", fontsize=title_size, fontweight=\"bold\")\n",
    "axes[1].set_yticks([0, 49, 99, 149, 199, 249])\n",
    "axes[1].set_yticklabels([1, 50, 100, 150, 200, 250], fontsize=ytick_size)\n",
    "\n",
    "cbar = fig.colorbar(im5, ax=axes[0], cmap=cmap, norm=norm, boundaries=bounds, ticks=[0, 1])\n",
    "cbar.ax.tick_params(labelsize=bar_label_size)\n",
    "\n",
    "cbar = fig.colorbar(im7, ax=axes[1], cmap=cmap)\n",
    "cbar.ax.tick_params(labelsize=bar_label_size)\n",
    "\n",
    "plt.tick_params(labelcolor='none', top=False, bottom=False, left=False, right=False)\n",
    "plt.xlabel(\"Feature Index\", fontsize=xlabel_size)\n",
    "plt.tight_layout()\n",
    "plt.show()"
   ]
  }
 ],
 "metadata": {
  "kernelspec": {
   "display_name": "Python 3",
   "language": "python",
   "name": "python3"
  },
  "language_info": {
   "codemirror_mode": {
    "name": "ipython",
    "version": 3
   },
   "file_extension": ".py",
   "mimetype": "text/x-python",
   "name": "python",
   "nbconvert_exporter": "python",
   "pygments_lexer": "ipython3",
   "version": "3.9.2"
  }
 },
 "nbformat": 4,
 "nbformat_minor": 2
}
