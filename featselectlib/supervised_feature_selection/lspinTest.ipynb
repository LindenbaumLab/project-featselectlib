{
 "cells": [
  {
   "cell_type": "code",
   "execution_count": 1,
   "metadata": {},
   "outputs": [
    {
     "name": "stderr",
     "output_type": "stream",
     "text": [
      "c:\\Users\\yuval\\AppData\\Local\\Programs\\Python\\Python39\\lib\\site-packages\\scipy\\__init__.py:177: UserWarning: A NumPy version >=1.18.5 and <1.26.0 is required for this version of SciPy (detected version 1.26.4\n",
      "  warnings.warn(f\"A NumPy version >={np_minversion} and <{np_maxversion}\"\n"
     ]
    }
   ],
   "source": [
    "# Importing Libraries\n",
    "import numpy as np\n",
    "import torch\n",
    "import matplotlib.pyplot as plt\n",
    "from torch.utils.data import DataLoader\n",
    "from Lspin import Lspin, DataSetMeta\n",
    "import matplotlib.colors as colors"
   ]
  },
  {
   "cell_type": "code",
   "execution_count": 2,
   "metadata": {},
   "outputs": [],
   "source": [
    "def generate_data(N_train=1500, N_valid=300, N_test=300, D=20):\n",
    "    np.random.seed(42)\n",
    "\n",
    "    def generate_set(N):\n",
    "        group_size = int(N / 3)\n",
    "        X = np.sign(np.random.normal(0, 1, (N, D)))\n",
    "        X = np.concatenate((X, np.concatenate(([-1]*group_size, [0]*group_size, [1]*group_size)).reshape(-1, 1)), axis=1)\n",
    "        Y = np.concatenate((\n",
    "            X[:group_size, 0] * X[:group_size, 1] + 2 * X[:group_size, -1],\n",
    "            X[group_size:(group_size*2), 1] * X[group_size:(group_size*2), 2] + 2 * X[group_size:(group_size*2), -1],\n",
    "            X[(group_size*2):(group_size*3), 2] * X[(group_size*2):(group_size*3), 3] + 2 * X[(group_size*2):(group_size*3), -1],\n",
    "        ), axis=0)\n",
    "        return X, Y\n",
    "\n",
    "    # Generate train, validation, and test sets\n",
    "    X_train, Y_train = generate_set(N_train)\n",
    "    X_valid, Y_valid = generate_set(N_valid)\n",
    "    X_test, Y_test = generate_set(N_test)\n",
    "\n",
    "    # Shuffle the data\n",
    "    def shuffle_data(X, Y):\n",
    "        indices = np.arange(len(X))\n",
    "        np.random.shuffle(indices)\n",
    "        return X[indices], Y[indices]\n",
    "\n",
    "    X_train, Y_train = shuffle_data(X_train, Y_train)\n",
    "    X_valid, Y_valid = shuffle_data(X_valid, Y_valid)\n",
    "    X_test, Y_test = shuffle_data(X_test, Y_test)\n",
    "\n",
    "    return X_train, Y_train, X_valid, Y_valid, X_test, Y_test"
   ]
  },
  {
   "cell_type": "code",
   "execution_count": 3,
   "metadata": {},
   "outputs": [
    {
     "name": "stdout",
     "output_type": "stream",
     "text": [
      "Train shapes: (1500, 21) (1500,)\n",
      "Validation shapes: (300, 21) (300,)\n",
      "Test shapes: (300, 21) (300,)\n"
     ]
    }
   ],
   "source": [
    "# Generate the data\n",
    "X_train, Y_train, X_valid, Y_valid, X_test, Y_test = generate_data()\n",
    "\n",
    "# Print shapes to verify\n",
    "print(\"Train shapes:\", X_train.shape, Y_train.shape)\n",
    "print(\"Validation shapes:\", X_valid.shape, Y_valid.shape)\n",
    "print(\"Test shapes:\", X_test.shape, Y_test.shape)\n",
    "\n",
    "# Create PyTorch datasets\n",
    "train_dataset = DataSetMeta(X_train, Y_train, Y_train)\n",
    "valid_dataset = DataSetMeta(X_valid, Y_valid, Y_valid)\n",
    "test_dataset = DataSetMeta(X_test, Y_test, Y_test)"
   ]
  },
  {
   "cell_type": "code",
   "execution_count": 4,
   "metadata": {},
   "outputs": [],
   "source": [
    "# Model parameters\n",
    "model_params = {\n",
    "    'input_node': X_train.shape[1],\n",
    "    'hidden_layers_node': [500, 100, 1],\n",
    "    'output_node': 1,\n",
    "    'gating_net_hidden_layers_node': [100],\n",
    "    'display_step': 100,\n",
    "    'activation_gating': 'tanh',\n",
    "    'activation_pred': 'l_relu',\n",
    "    'lam': 1,\n",
    "    'sigma': 0.5,\n",
    "    'a': 1,\n",
    "    'gamma1': 0,\n",
    "    'gamma2': 0,\n",
    "    'num_meta_label': None,\n",
    "    'stddev_input': 0.1,\n",
    "    'stddev_input_gates': 0.1,\n",
    "    'seed': 42,\n",
    "    'val': True  # Enabling validation during training\n",
    "}\n",
    "\n",
    "# Training parameters\n",
    "training_params = {\n",
    "    'batch_size': 64,\n",
    "    'num_epochs': 5000,  # Increased number of epochs\n",
    "    'lr': 0.001,  # Adjusted learning rate\n",
    "    'compute_sim': False\n",
    "}"
   ]
  },
  {
   "cell_type": "code",
   "execution_count": 5,
   "metadata": {},
   "outputs": [
    {
     "name": "stderr",
     "output_type": "stream",
     "text": [
      "c:\\Users\\yuval\\AppData\\Local\\Programs\\Python\\Python39\\lib\\site-packages\\torch\\nn\\modules\\loss.py:535: UserWarning: Using a target size (torch.Size([64])) that is different to the input size (torch.Size([64, 1])). This will likely lead to incorrect results due to broadcasting. Please ensure they have the same size.\n",
      "  return F.mse_loss(input, target, reduction=self.reduction)\n",
      "c:\\Users\\yuval\\AppData\\Local\\Programs\\Python\\Python39\\lib\\site-packages\\torch\\nn\\modules\\loss.py:535: UserWarning: Using a target size (torch.Size([28])) that is different to the input size (torch.Size([28, 1])). This will likely lead to incorrect results due to broadcasting. Please ensure they have the same size.\n",
      "  return F.mse_loss(input, target, reduction=self.reduction)\n",
      "c:\\Users\\yuval\\AppData\\Local\\Programs\\Python\\Python39\\lib\\site-packages\\torch\\nn\\modules\\loss.py:535: UserWarning: Using a target size (torch.Size([44])) that is different to the input size (torch.Size([44, 1])). This will likely lead to incorrect results due to broadcasting. Please ensure they have the same size.\n",
      "  return F.mse_loss(input, target, reduction=self.reduction)\n"
     ]
    },
    {
     "name": "stdout",
     "output_type": "stream",
     "text": [
      "Epoch [100/5000], Train Loss: 3.6848, Validation Loss: 3.6734, Validation Acc: 0.0000\n",
      "Epoch [200/5000], Train Loss: 3.6825, Validation Loss: 3.6736, Validation Acc: 0.0000\n",
      "Epoch [300/5000], Train Loss: 3.7184, Validation Loss: 3.6715, Validation Acc: 0.0000\n",
      "Epoch [400/5000], Train Loss: 3.7004, Validation Loss: 3.6710, Validation Acc: 0.0000\n",
      "Epoch [500/5000], Train Loss: 3.7095, Validation Loss: 3.6693, Validation Acc: 0.0000\n",
      "Epoch [600/5000], Train Loss: 3.6759, Validation Loss: 3.6702, Validation Acc: 0.0000\n",
      "Epoch [700/5000], Train Loss: 3.7045, Validation Loss: 3.7497, Validation Acc: 0.0000\n",
      "Epoch [800/5000], Train Loss: 3.6888, Validation Loss: 3.6948, Validation Acc: 0.0000\n",
      "Epoch [900/5000], Train Loss: 3.6943, Validation Loss: 3.8266, Validation Acc: 0.0000\n",
      "Epoch [1000/5000], Train Loss: 3.7230, Validation Loss: 3.7503, Validation Acc: 0.0000\n",
      "Epoch [1100/5000], Train Loss: 3.6897, Validation Loss: 3.8827, Validation Acc: 0.0000\n",
      "Epoch [1200/5000], Train Loss: 3.7156, Validation Loss: 3.9484, Validation Acc: 0.0000\n",
      "Epoch [1300/5000], Train Loss: 3.7029, Validation Loss: 3.9141, Validation Acc: 0.0000\n",
      "Epoch [1400/5000], Train Loss: 3.7216, Validation Loss: 3.7074, Validation Acc: 0.0000\n",
      "Epoch [1500/5000], Train Loss: 3.7148, Validation Loss: 4.0454, Validation Acc: 0.0000\n",
      "Epoch [1600/5000], Train Loss: 3.6957, Validation Loss: 4.3932, Validation Acc: 0.0000\n",
      "Epoch [1700/5000], Train Loss: 3.7036, Validation Loss: 4.0273, Validation Acc: 0.0000\n",
      "Epoch [1800/5000], Train Loss: 3.6883, Validation Loss: 3.8011, Validation Acc: 0.0000\n",
      "Epoch [1900/5000], Train Loss: 3.7102, Validation Loss: 3.6771, Validation Acc: 0.0000\n",
      "Epoch [2000/5000], Train Loss: 3.7013, Validation Loss: 3.6684, Validation Acc: 0.0000\n",
      "Epoch [2100/5000], Train Loss: 3.6750, Validation Loss: 3.7234, Validation Acc: 0.0000\n",
      "Epoch [2200/5000], Train Loss: 3.7214, Validation Loss: 3.7243, Validation Acc: 0.0000\n",
      "Epoch [2300/5000], Train Loss: 3.6892, Validation Loss: 3.6920, Validation Acc: 0.0000\n",
      "Epoch [2400/5000], Train Loss: 3.7242, Validation Loss: 3.7233, Validation Acc: 0.0000\n",
      "Epoch [2500/5000], Train Loss: 3.7163, Validation Loss: 3.7251, Validation Acc: 0.0000\n",
      "Epoch [2600/5000], Train Loss: 3.7039, Validation Loss: 3.7010, Validation Acc: 0.0000\n",
      "Epoch [2700/5000], Train Loss: 3.7086, Validation Loss: 3.6660, Validation Acc: 0.0000\n",
      "Epoch [2800/5000], Train Loss: 3.6762, Validation Loss: 3.6723, Validation Acc: 0.0000\n",
      "Epoch [2900/5000], Train Loss: 3.6798, Validation Loss: 3.6811, Validation Acc: 0.0000\n",
      "Epoch [3000/5000], Train Loss: 3.7011, Validation Loss: 3.6755, Validation Acc: 0.0000\n",
      "Epoch [3100/5000], Train Loss: 3.7033, Validation Loss: 3.8337, Validation Acc: 0.0000\n",
      "Epoch [3200/5000], Train Loss: 3.7084, Validation Loss: 3.8202, Validation Acc: 0.0000\n",
      "Epoch [3300/5000], Train Loss: 3.7283, Validation Loss: 3.8697, Validation Acc: 0.0000\n",
      "Epoch [3400/5000], Train Loss: 3.7151, Validation Loss: 3.6667, Validation Acc: 0.0000\n",
      "Epoch [3500/5000], Train Loss: 3.7012, Validation Loss: 3.6661, Validation Acc: 0.0000\n",
      "Epoch [3600/5000], Train Loss: 3.7441, Validation Loss: 3.7415, Validation Acc: 0.0000\n",
      "Epoch [3700/5000], Train Loss: 3.7291, Validation Loss: 3.6874, Validation Acc: 0.0000\n",
      "Epoch [3800/5000], Train Loss: 3.7110, Validation Loss: 3.6721, Validation Acc: 0.0000\n",
      "Epoch [3900/5000], Train Loss: 3.7033, Validation Loss: 3.6725, Validation Acc: 0.0000\n",
      "Epoch [4000/5000], Train Loss: 3.7040, Validation Loss: 3.6738, Validation Acc: 0.0000\n",
      "Epoch [4100/5000], Train Loss: 3.6964, Validation Loss: 3.6703, Validation Acc: 0.0000\n",
      "Epoch [4200/5000], Train Loss: 3.7000, Validation Loss: 3.6840, Validation Acc: 0.0000\n",
      "Epoch [4300/5000], Train Loss: 3.7060, Validation Loss: 3.6800, Validation Acc: 0.0000\n",
      "Epoch [4400/5000], Train Loss: 3.7136, Validation Loss: 3.6705, Validation Acc: 0.0000\n",
      "Epoch [4500/5000], Train Loss: 3.6812, Validation Loss: 3.6785, Validation Acc: 0.0000\n",
      "Epoch [4600/5000], Train Loss: 3.7027, Validation Loss: 3.6731, Validation Acc: 0.0000\n",
      "Epoch [4700/5000], Train Loss: 3.7010, Validation Loss: 3.6726, Validation Acc: 0.0000\n",
      "Epoch [4800/5000], Train Loss: 3.7148, Validation Loss: 3.6692, Validation Acc: 0.0000\n",
      "Epoch [4900/5000], Train Loss: 3.7041, Validation Loss: 3.6706, Validation Acc: 0.0000\n",
      "Epoch [5000/5000], Train Loss: 3.6942, Validation Loss: 3.6669, Validation Acc: 0.0000\n",
      "Training complete!\n",
      "Final Training Loss: 3.6942, Final Validation Loss: 3.6669, Final Validation Acc: 0.0000\n"
     ]
    }
   ],
   "source": [
    "# Initialize the model\n",
    "device = torch.device(\"cuda\" if torch.cuda.is_available() else \"cpu\")\n",
    "model = Lspin(**model_params).to(device)\n",
    "# Train the model\n",
    "train_losses, val_losses, val_acc = model.train_model(\n",
    "    dataset=train_dataset, \n",
    "    valid_dataset=valid_dataset,\n",
    "    batch_size=training_params['batch_size'], \n",
    "    num_epoch=training_params['num_epochs'], \n",
    "    lr=training_params['lr'], \n",
    "    compute_sim=training_params['compute_sim']\n",
    ")"
   ]
  },
  {
   "cell_type": "code",
   "execution_count": 6,
   "metadata": {},
   "outputs": [
    {
     "name": "stdout",
     "output_type": "stream",
     "text": [
      "-3.5864968\n"
     ]
    }
   ],
   "source": [
    "predictions,alpha = model.test(X_test)\n",
    "print(alpha.max())"
   ]
  },
  {
   "cell_type": "code",
   "execution_count": 9,
   "metadata": {},
   "outputs": [
    {
     "name": "stdout",
     "output_type": "stream",
     "text": [
      "Mean Squared Error on the test: 3.90687\n"
     ]
    },
    {
     "data": {
      "image/png": "[encoded data removed]",
      "text/plain": [
       "<Figure size 720x432 with 5 Axes>"
      ]
     },
     "metadata": {
      "needs_background": "light"
     },
     "output_type": "display_data"
    }
   ],
   "source": [
    "# Test the model\n",
    "predictions,alpha = model.test(X_test)\n",
    "\n",
    "# Calculate Mean Squared Error on the test set\n",
    "mse = np.mean((Y_test - predictions) ** 2)\n",
    "print(\"Mean Squared Error on the test: {:.5f}\".format(mse))\n",
    "\n",
    "# Visualizing the gate matrix\n",
    "gate_matrix_test = model.get_prob_alpha(torch.FloatTensor(X_test).to(device))\n",
    "\n",
    "# Compare to ground truth\n",
    "g_test = np.zeros((X_test.shape[0], X_test.shape[1]))\n",
    "for i in range(g_test.shape[0]):\n",
    "    if X_test[i, -1] == -1:\n",
    "        g_test[i, 0] = 1\n",
    "        g_test[i, 1] = 1\n",
    "    elif X_test[i, -1] == 0:\n",
    "        g_test[i, 1] = 1\n",
    "        g_test[i, 2] = 1\n",
    "    elif X_test[i, -1] == 1:\n",
    "        g_test[i, 2] = 1\n",
    "        g_test[i, 3] = 1\n",
    "g_test[:, -1] = 1\n",
    "\n",
    "fig, axes = plt.subplots(1, 2, sharex=True, sharey=False, figsize=(10, 6))\n",
    "\n",
    "cmap = plt.cm.Blues \n",
    "bounds = [0, 0.5, 1]\n",
    "norm = colors.BoundaryNorm(bounds, cmap.N)\n",
    "fig.add_subplot(111, frameon=False)\n",
    "\n",
    "title_size = 30\n",
    "xlabel_size = 35\n",
    "ylabel_size = 35\n",
    "xtick_size = 20\n",
    "ytick_size = 20\n",
    "bar_label_size = 20\n",
    "\n",
    "plt.rc('xtick', labelsize=20)\n",
    "\n",
    "# Test\n",
    "y_axis_order = np.argsort(X_test[:, -1])\n",
    "\n",
    "im5 = axes[0].imshow(g_test[y_axis_order, :], aspect='auto', cmap=cmap, norm=norm)\n",
    "axes[0].set_title(\"Ground Truth\", fontsize=title_size, fontweight=\"bold\")\n",
    "axes[0].set_ylabel(\"Sample Index\", fontsize=ylabel_size, labelpad=20)\n",
    "axes[0].set_xticks([0, 1, 2, 3, 20])\n",
    "axes[0].set_xticklabels([1, 2, 3, 4, 21])\n",
    "axes[0].set_yticks([0, 49, 99, 149, 199, 249])\n",
    "axes[0].set_yticklabels([1, 50, 100, 150, 200, 250], fontsize=ytick_size)\n",
    "\n",
    "im7 = axes[1].imshow(gate_matrix_test[y_axis_order, :].cpu().numpy(), aspect='auto', cmap=cmap)\n",
    "axes[1].set_title(\"LSPIN\", fontsize=title_size, fontweight=\"bold\")\n",
    "axes[1].set_yticks([0, 49, 99, 149, 199, 249])\n",
    "axes[1].set_yticklabels([1, 50, 100, 150, 200, 250], fontsize=ytick_size)\n",
    "\n",
    "cbar = fig.colorbar(im5, ax=axes[0], cmap=cmap, norm=norm, boundaries=bounds, ticks=[0, 1])\n",
    "cbar.ax.tick_params(labelsize=bar_label_size)\n",
    "\n",
    "cbar = fig.colorbar(im7, ax=axes[1], cmap=cmap)\n",
    "cbar.ax.tick_params(labelsize=bar_label_size)\n",
    "\n",
    "plt.tick_params(labelcolor='none', top=False, bottom=False, left=False, right=False)\n",
    "plt.xlabel(\"Feature Index\", fontsize=xlabel_size)\n",
    "plt.tight_layout()\n",
    "plt.show()"
   ]
  },
  {
   "cell_type": "code",
   "execution_count": 8,
   "metadata": {},
   "outputs": [
    {
     "name": "stdout",
     "output_type": "stream",
     "text": [
      "tensor([[0., 0., 0.,  ..., 0., 0., 0.],\n",
      "        [0., 0., 0.,  ..., 0., 0., 0.],\n",
      "        [0., 0., 0.,  ..., 0., 0., 0.],\n",
      "        ...,\n",
      "        [0., 0., 0.,  ..., 0., 0., 0.],\n",
      "        [0., 0., 0.,  ..., 0., 0., 0.],\n",
      "        [0., 0., 0.,  ..., 0., 0., 0.]])\n"
     ]
    }
   ],
   "source": [
    "print(gate_matrix_test)"
   ]
  }
 ],
 "metadata": {
  "kernelspec": {
   "display_name": "Python 3",
   "language": "python",
   "name": "python3"
  },
  "language_info": {
   "codemirror_mode": {
    "name": "ipython",
    "version": 3
   },
   "file_extension": ".py",
   "mimetype": "text/x-python",
   "name": "python",
   "nbconvert_exporter": "python",
   "pygments_lexer": "ipython3",
   "version": "3.9.2"
  }
 },
 "nbformat": 4,
 "nbformat_minor": 2
}
